{
 "cells": [
  {
   "cell_type": "code",
   "execution_count": 1,
   "metadata": {},
   "outputs": [
    {
     "name": "stdout",
     "output_type": "stream",
     "text": [
      "Requirement already satisfied: Pillow in c:\\users\\ashis\\anaconda3\\lib\\site-packages (9.4.0)\n"
     ]
    }
   ],
   "source": [
    "! pip install Pillow"
   ]
  },
  {
   "cell_type": "code",
   "execution_count": 1,
   "metadata": {},
   "outputs": [
    {
     "name": "stdout",
     "output_type": "stream",
     "text": [
      "Done\n"
     ]
    }
   ],
   "source": [
    "# code help taken from geek for geeks\n",
    "# import required libraries\n",
    "import os\n",
    "import sys\n",
    "from PIL import Image\n",
    "\n",
    "# define a function for\n",
    "# compressing an image\n",
    "def compressMe(file, verbose = False):\n",
    "\t\n",
    "\t# Get the path of the file\n",
    "\tfilepath = os.path.join(os.getcwd(),\n",
    "\t\t\t\t\t\t\tfile)\n",
    "\t\n",
    "\t# open the image\n",
    "\tpicture = Image.open(filepath)\n",
    "\t\n",
    "\t# Save the picture with desired quality\n",
    "\t# To change the quality of image,\n",
    "\t# set the quality variable at\n",
    "\t# your desired level, The more\n",
    "\t# the value of quality variable\n",
    "\t# and lesser the compression\n",
    "\tpicture.save(\"Compressed_\"+file,\n",
    "\t\t\t\t\"JPEG\",\n",
    "\t\t\t\toptimize = True,\n",
    "\t\t\t\tquality = 10)\n",
    "\treturn\n",
    "\n",
    "# Define a main function\n",
    "def main():\n",
    "\t\n",
    "\tverbose = False\n",
    "\t\n",
    "\t# checks for verbose flag\n",
    "\tif (len(sys.argv)>1):\n",
    "\t\t\n",
    "\t\tif (sys.argv[1].lower()==\"-v\"):\n",
    "\t\t\tverbose = True\n",
    "\t\t\t\t\t\n",
    "\t# finds current working dir\n",
    "\tcwd = os.getcwd()\n",
    "\n",
    "\tformats = ('.jpg', '.jpeg')\n",
    "\t\n",
    "\t# looping through all the files\n",
    "\t# in a current directory\n",
    "\tfor file in os.listdir(cwd):\n",
    "\t\t\n",
    "\t\t# If the file format is JPG or JPEG\n",
    "\t\tif os.path.splitext(file)[1].lower() in formats:\n",
    "\t\t\tprint('compressing', file)\n",
    "\t\t\tcompressMe(file, verbose)\n",
    "\n",
    "\tprint(\"Done\")\n",
    "\n",
    "# Driver code\n",
    "if __name__ == \"__main__\":\n",
    "\tmain()\n"
   ]
  },
  {
   "cell_type": "code",
   "execution_count": 8,
   "metadata": {},
   "outputs": [],
   "source": [
    "file = 'Pixabay-Image-API/anemone'"
   ]
  },
  {
   "cell_type": "code",
   "execution_count": 11,
   "metadata": {},
   "outputs": [],
   "source": [
    "#for each in file:\n",
    "    #compressMe(each,verbose = False)"
   ]
  }
 ],
 "metadata": {
  "kernelspec": {
   "display_name": "base",
   "language": "python",
   "name": "python3"
  },
  "language_info": {
   "codemirror_mode": {
    "name": "ipython",
    "version": 3
   },
   "file_extension": ".py",
   "mimetype": "text/x-python",
   "name": "python",
   "nbconvert_exporter": "python",
   "pygments_lexer": "ipython3",
   "version": "3.10.9"
  },
  "orig_nbformat": 4
 },
 "nbformat": 4,
 "nbformat_minor": 2
}
